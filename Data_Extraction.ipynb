{
 "cells": [
  {
   "cell_type": "code",
   "execution_count": null,
   "id": "72263f54-ed4c-44e6-93ce-1d398d646f48",
   "metadata": {},
   "outputs": [],
   "source": [
    "## Inštalácia Mega modulu ##\n",
    "\n",
    "pip install mega.py"
   ]
  },
  {
   "cell_type": "code",
   "execution_count": null,
   "id": "30eae641-dad1-4c11-88f9-7556a8639b69",
   "metadata": {},
   "outputs": [],
   "source": [
    "## Importovanie dôležitých knižníc ##\n",
    "\n",
    "from mega import Mega\n",
    "import zipfile"
   ]
  },
  {
   "cell_type": "code",
   "execution_count": null,
   "id": "50529e13-10df-4190-8410-84b538a94bc5",
   "metadata": {},
   "outputs": [],
   "source": [
    "# Kód na získanie dát s Kóronálnymi Dierami ##\n",
    "\n",
    "mega = Mega()\n",
    "m = mega.login()\n",
    "print(\"Downloading ...\")\n",
    "try:\n",
    "    m.download_url('https://mega.nz/file/1Dg0iaAA#0ZRzdon9F7j0jiCjWHfUh-JNoxw5zfcmzceKrh_VySo')\n",
    "except PermissionError:\n",
    "    pass\n",
    "print(\"Unzipping ...\")\n",
    "with zipfile.ZipFile(\"171.zip\",\"r\") as zip_ref:\n",
    "    zip_ref.extractall(\"data1\")\n",
    "print(\"DONE\")"
   ]
  },
  {
   "cell_type": "code",
   "execution_count": null,
   "id": "dd8e06c1-0ab3-44bc-8d86-aca70d8263f5",
   "metadata": {},
   "outputs": [],
   "source": [
    "# Kód na získanie dát s Aktívnymi Regiónmi ##\n",
    "\n",
    "mega = Mega()\n",
    "m = mega.login()\n",
    "print(\"Downloading ...\")\n",
    "try:\n",
    "    m.download_url('https://mega.nz/file/sOBGiTwR#fjvzvxoLDFDKLv8EtLPBGqPUCo_T_I7y8f14n4eGu94')\n",
    "except PermissionError:\n",
    "    pass\n",
    "print(\"Unzipping ...\")\n",
    "with zipfile.ZipFile(\"193.zip\",\"r\") as zip_ref:\n",
    "    zip_ref.extractall(\"data\")\n",
    "print(\"DONE\")"
   ]
  }
 ],
 "metadata": {
  "kernelspec": {
   "display_name": "Python 3 (ipykernel)",
   "language": "python",
   "name": "python3"
  },
  "language_info": {
   "codemirror_mode": {
    "name": "ipython",
    "version": 3
   },
   "file_extension": ".py",
   "mimetype": "text/x-python",
   "name": "python",
   "nbconvert_exporter": "python",
   "pygments_lexer": "ipython3",
   "version": "3.10.6"
  }
 },
 "nbformat": 4,
 "nbformat_minor": 5
}
