{
 "cells": [
  {
   "cell_type": "code",
   "execution_count": null,
   "id": "3a61b619-1781-4691-95fb-e241a99dae85",
   "metadata": {},
   "outputs": [],
   "source": [
    "## Inštalácia potrebných komponentov ##\n",
    "## Nutné inštalovať každú zvlášť ##\n",
    "\n",
    "pip install pydot\n",
    "pip install git+https://github.com/tensorflow/examples.git\n",
    "pip install graphviz\n",
    "pip install opencv-python"
   ]
  },
  {
   "cell_type": "code",
   "execution_count": 69,
   "id": "1b42905d-82b9-475e-985a-7cca77b343ce",
   "metadata": {
    "tags": []
   },
   "outputs": [],
   "source": [
    "## Načítanie potrebných knižníc ##\n",
    "\n",
    "from IPython.display import clear_output\n",
    "import matplotlib.pyplot as plt\n",
    "import numpy as np\n",
    "import cv2\n",
    "from tensorflow_examples.models.pix2pix import pix2pix\n",
    "import tensorflow as tf\n",
    "import os\n",
    "from tensorflow.keras.layers import Dropout\n",
    "from sklearn.model_selection import train_test_split"
   ]
  },
  {
   "cell_type": "code",
   "execution_count": 70,
   "id": "e6dbe123-d42c-4940-bf55-2142548ce634",
   "metadata": {},
   "outputs": [],
   "source": [
    "## Priradenie ciest k trénovacím, testovacím obrázkom a ich maskám ##\n",
    "## V prípade trénovania na iné dáta, stačí zmeniť cestu priamo tu. Zvyšok kódu ostáva nezmenený ##\n",
    "\n",
    "train_images_path = \"/home/jovyan/work/bakalar_praca/scss-net/data1/171_train/171(spoca)/imgs/\"\n",
    "train_masks_path = \"/home/jovyan/work/bakalar_praca/scss-net/data1/171_train/171(spoca)/masks/\"\n",
    "test_images_path = \"/home/jovyan/work/bakalar_praca/scss-net/data1/171_test/imgs/\"\n",
    "test_masks_path = \"/home/jovyan/work/bakalar_praca/scss-net/data1/171_test/masks(spoca)/\""
   ]
  },
  {
   "cell_type": "code",
   "execution_count": 71,
   "id": "9f9fc0f1-1c99-4437-a5ef-94d71d54f875",
   "metadata": {},
   "outputs": [],
   "source": [
    "## Mapovanie štítkov do 3 kategorii (OUTPUT CLASSES = 3) ##\n",
    "\n",
    "\n",
    "OUTPUT_CLASSES = 3\n",
    "\n",
    "unique_labels = [\n",
    "     0, 18, 54, 66, 43, 9, 40, 114, 185, 88, 2, 38, 177, 232, 254, 255, 248, 216,\n",
    "     242, 237, 17, 11, 33, 178, 174, 133, 168, 63, 164, 241, 28, 8, 152, 214, 49, 16,\n",
    "     192, 219, 14, 50, 244, 202, 68, 10, 153, 235, 190, 65, 64, 36, 52, 239, 176, 62,\n",
    "     116, 209, 228, 106, 24, 167, 166, 238, 213, 208, 23, 51, 187, 15, 31, 206, 84, 224,\n",
    "     245, 200, 247, 196, 105, 57, 173, 21, 136, 227, 108, 6, 205, 253, 160, 243, 218, 87,\n",
    "     123, 59, 37, 55, 91, 29, 56, 128, 77, 231, 229, 110, 41, 230, 93, 79, 58\n",
    "]\n",
    "\n",
    "label_map = {\n",
    "    0: 0}\n",
    "\n",
    "class_counter = 0\n",
    "for label in unique_labels:\n",
    "    if label not in label_map:\n",
    "        label_map[label] = class_counter\n",
    "        class_counter = (class_counter + 1) % 3  "
   ]
  },
  {
   "cell_type": "code",
   "execution_count": 72,
   "id": "a7b8c8b9-7927-42fa-9c57-5312eeb1ec64",
   "metadata": {},
   "outputs": [],
   "source": [
    "## Načítanie a úprava obrázkov ##\n",
    "\n",
    "def load_and_preprocess_image(image_path, mask_path):\n",
    "    image = tf.io.read_file(image_path)\n",
    "    image = tf.image.decode_png(image, channels=3)\n",
    "    image = tf.image.resize(image, [256, 256])\n",
    "    image = tf.cast(image, tf.float32) / 255.0\n",
    "    \n",
    "    mask = tf.io.read_file(mask_path)\n",
    "    mask = tf.image.decode_png(mask, channels=1)\n",
    "    mask = tf.image.resize(mask, [256, 256], method=tf.image.ResizeMethod.NEAREST_NEIGHBOR)\n",
    "    \n",
    "    new_mask = tf.zeros_like(mask)\n",
    "    for original_label, new_label in label_map.items():\n",
    "        mask_of_label = tf.equal(mask, tf.constant(original_label, dtype=tf.uint8))\n",
    "        new_mask = tf.where(mask_of_label, tf.constant(new_label, dtype=tf.uint8), new_mask)\n",
    "        \n",
    "    return image, new_mask"
   ]
  },
  {
   "cell_type": "code",
   "execution_count": 73,
   "id": "6e302ebd-2c14-47ea-bcf8-0e3e1e41bace",
   "metadata": {},
   "outputs": [],
   "source": [
    "## Augmentácia trénovacích dát horizontálnym otočením o 90 stupňov, náhodným jasom a kontrastom ##\n",
    "\n",
    "\n",
    "def augment(image, mask):\n",
    "    if tf.random.uniform(()) > 0.5:\n",
    "        image = tf.image.flip_left_right(image)\n",
    "        mask = tf.image.flip_left_right(mask)\n",
    "    \n",
    "    k = tf.random.uniform(shape=[], minval=0, maxval=4, dtype=tf.int32)\n",
    "    image = tf.image.rot90(image, k)\n",
    "    mask = tf.image.rot90(mask, k)\n",
    "    \n",
    "    image = tf.image.random_brightness(image, max_delta=0.1)\n",
    "    image = tf.image.random_contrast(image, lower=0.9, upper=1.1)\n",
    "    \n",
    "    return image, mask"
   ]
  },
  {
   "cell_type": "code",
   "execution_count": 74,
   "id": "f97ae126-0ad0-47d3-9e14-ea54644c88ba",
   "metadata": {},
   "outputs": [],
   "source": [
    "## Definícia vytvorenia datasetu ##\n",
    "\n",
    "def create_dataset(image_paths, mask_paths, use_augmentation=True):\n",
    "    dataset = tf.data.Dataset.from_tensor_slices((image_paths, mask_paths))\n",
    "    dataset = dataset.map(load_and_preprocess_image, num_parallel_calls=tf.data.AUTOTUNE)\n",
    "    if use_augmentation:\n",
    "        dataset = dataset.map(augment, num_parallel_calls=tf.data.AUTOTUNE)\n",
    "    return dataset"
   ]
  },
  {
   "cell_type": "code",
   "execution_count": 75,
   "id": "60289793-b4c9-40c0-b79f-69b6e4a29a69",
   "metadata": {},
   "outputs": [],
   "source": [
    "## Vytvorenie ciest s jednotlivým dátam ##\n",
    "## Pomocou definície create_dataset() sa vytvoria 3 datasety (trénovací a testovací a validačný, ktorý tvorí 20% z trénovacieho) ##\n",
    "\n",
    "train_image_files, val_image_files, train_mask_files, val_mask_files = train_test_split(\n",
    "    [os.path.join(train_images_path, file_name) for file_name in os.listdir(train_images_path) if os.path.isfile(os.path.join(train_images_path, file_name))],\n",
    "    [os.path.join(train_masks_path, file_name) for file_name in os.listdir(train_masks_path) if os.path.isfile(os.path.join(train_masks_path, file_name))],\n",
    "    test_size=0.2, random_state=42)\n",
    "\n",
    "train_dataset = create_dataset(train_image_files, train_mask_files, use_augmentation=True)\n",
    "val_dataset = create_dataset(val_image_files, val_mask_files, use_augmentation=False)\n",
    "test_dataset = create_dataset(\n",
    "    [os.path.join(test_images_path, file_name) for file_name in os.listdir(test_images_path) if os.path.isfile(os.path.join(test_images_path, file_name))],\n",
    "    [os.path.join(test_masks_path, file_name) for file_name in os.listdir(test_masks_path) if os.path.isfile(os.path.join(test_masks_path, file_name))],\n",
    "    use_augmentation=False)"
   ]
  },
  {
   "cell_type": "code",
   "execution_count": null,
   "id": "d9f24913-9e5f-4552-a1ab-10c4c49d06c7",
   "metadata": {},
   "outputs": [],
   "source": [
    "## Výpis počtu záznamov v trénovacej a testovacej množine ##\n",
    "\n",
    "def count_files(directory):\n",
    "    return len([name for name in os.listdir(directory) if os.path.isfile(os.path.join(directory, name))])\n",
    "\n",
    "num_train = count_files(train_images_path)\n",
    "num_test = count_files(test_images_path)\n",
    "\n",
    "print(f\"Number of images in training dataset: {num_train}\")\n",
    "print(f\"Number of images in testing dataset: {num_test}\")"
   ]
  },
  {
   "cell_type": "code",
   "execution_count": 77,
   "id": "69984d7f-1e73-4012-9c21-97219c50efc2",
   "metadata": {},
   "outputs": [],
   "source": [
    "## Definovanie dôležitých parametrov trénovania ##\n",
    "\n",
    "LEARNING_RATE = 0.0002\n",
    "BATCH_SIZE = 23\n",
    "STEPS_PER_EPOCH = len(train_image_files) // BATCH_SIZE\n",
    "VALIDATION_STEPS = len(val_image_files) // BATCH_SIZE"
   ]
  },
  {
   "cell_type": "code",
   "execution_count": 78,
   "id": "d56e67bd-d8be-4315-afee-65c90f482750",
   "metadata": {
    "tags": []
   },
   "outputs": [],
   "source": [
    "## Spracovanie trénovacích, validačných a testovacích dát ##\n",
    "\n",
    "train_batches = train_dataset.cache().shuffle(1000).batch(BATCH_SIZE).repeat().prefetch(buffer_size=tf.data.AUTOTUNE)\n",
    "val_batches = val_dataset.batch(BATCH_SIZE).cache().prefetch(buffer_size=tf.data.AUTOTUNE)\n",
    "test_batches = test_dataset.batch(BATCH_SIZE)"
   ]
  },
  {
   "cell_type": "code",
   "execution_count": 79,
   "id": "ebd145ef-4c58-47d6-8fa5-0acf33de4d83",
   "metadata": {},
   "outputs": [],
   "source": [
    "## Nastavenie vizualizácie obrázkov pri trénovaní/testovaní ##\n",
    "\n",
    "def display(display_list, title_list):\n",
    "    plt.figure(figsize=(15, 5))\n",
    "    for i in range(len(display_list)):\n",
    "        plt.subplot(1, len(display_list), i + 1)\n",
    "        plt.title(title_list[i])\n",
    "        plt.imshow(tf.keras.preprocessing.image.array_to_img(display_list[i]))\n",
    "        plt.axis('off')\n",
    "    plt.show()"
   ]
  },
  {
   "cell_type": "code",
   "execution_count": null,
   "id": "f59bddde-9efa-4e53-a485-1f746f0bfff0",
   "metadata": {},
   "outputs": [],
   "source": [
    "## Vytvorenie a konfigurácia základného modelu ###\n",
    "\n",
    "base_model = tf.keras.applications.MobileNetV2(input_shape=[256, 256, 3], include_top=False)\n",
    "\n",
    "layer_names = [\n",
    "    'block_1_expand_relu',   \n",
    "    'block_3_expand_relu',   \n",
    "    'block_6_expand_relu',   \n",
    "    'block_13_expand_relu',  \n",
    "    'block_16_project',      \n",
    "]\n",
    "\n",
    "base_model_outputs = [base_model.get_layer(name).output for name in layer_names]\n",
    "\n",
    "down_stack = tf.keras.Model(inputs=base_model.input, outputs=base_model_outputs)\n",
    "\n",
    "down_stack.trainable = False"
   ]
  },
  {
   "cell_type": "code",
   "execution_count": 81,
   "id": "af990e9f-45a7-46f5-b12e-04770bd9a813",
   "metadata": {},
   "outputs": [],
   "source": [
    "## Up-sampling, ktoré sa používa na zväčšenie priestorových rozmerov dát pri segmentácii obrazu ##\n",
    "\n",
    "up_stack = [\n",
    "    pix2pix.upsample(512, 3),  \n",
    "    pix2pix.upsample(256, 3),  \n",
    "    pix2pix.upsample(128, 3),  \n",
    "    pix2pix.upsample(64, 3), \n",
    "]"
   ]
  },
  {
   "cell_type": "code",
   "execution_count": 82,
   "id": "5497ec54-20e3-46f0-a081-2bd38e1105f8",
   "metadata": {},
   "outputs": [],
   "source": [
    "## Definovanie a vytvorenie modelu U-net ##\n",
    "\n",
    "def unet_model(output_channels: int, dropout_rate=0.2):\n",
    "    inputs = tf.keras.layers.Input(shape=[256, 256, 3])\n",
    "\n",
    "    skips = down_stack(inputs)\n",
    "    x = skips[-1]\n",
    "    skips = reversed(skips[:-1])\n",
    "\n",
    "    for up, skip in zip(up_stack, skips):\n",
    "        x = up(x)\n",
    "        concat = tf.keras.layers.Concatenate()\n",
    "        x = concat([x, skip])\n",
    "        x = Dropout(dropout_rate)(x)\n",
    "\n",
    "    # This is the last layer of the model\n",
    "    last = tf.keras.layers.Conv2DTranspose(\n",
    "        filters=output_channels, kernel_size=3, strides=2,\n",
    "        padding='same')  \n",
    "\n",
    "    x = last(x)\n",
    "\n",
    "    return tf.keras.Model(inputs=inputs, outputs=x)\n",
    "\n",
    "model = unet_model(output_channels=OUTPUT_CLASSES, dropout_rate=0.2) \n",
    "model.compile(optimizer=tf.keras.optimizers.Adam(learning_rate=LEARNING_RATE),\n",
    "              loss=tf.keras.losses.SparseCategoricalCrossentropy(from_logits=True),\n",
    "              metrics=['accuracy'])"
   ]
  },
  {
   "cell_type": "code",
   "execution_count": 84,
   "id": "df94f1b9-9e0f-44d4-97cb-2f00ba1091ad",
   "metadata": {},
   "outputs": [],
   "source": [
    "## Spracovanie predikovaných masiek ##\n",
    "\n",
    "def create_mask(pred_mask):\n",
    "    pred_mask = tf.math.argmax(pred_mask, axis=-1)\n",
    "    pred_mask = pred_mask[..., tf.newaxis]\n",
    "    return pred_mask[0]"
   ]
  },
  {
   "cell_type": "code",
   "execution_count": 85,
   "id": "f3cbcd07-d1e1-404e-ba04-f415a8507963",
   "metadata": {
    "tags": []
   },
   "outputs": [],
   "source": [
    "## Definovanie zobrazenia výsledkov predikcií ##\n",
    "\n",
    "def show_predictions(dataset=None, num=4):\n",
    "  if dataset:\n",
    "    for image, mask in dataset.take(num):\n",
    "      pred_mask = model.predict(image)\n",
    "      display([image[0], mask[0], create_mask(pred_mask)])\n",
    "  else:\n",
    "    display([sample_image, sample_mask,\n",
    "             create_mask(model.predict(sample_image[tf.newaxis, ...]))])"
   ]
  },
  {
   "cell_type": "code",
   "execution_count": 86,
   "id": "718e5277-096e-475c-98d8-38ed3e36895f",
   "metadata": {},
   "outputs": [],
   "source": [
    "## Definovanie vizuálneho zobrazenia výstupu pri trénovaní ##\n",
    "\n",
    "class DisplayCallback(tf.keras.callbacks.Callback):\n",
    "    def on_epoch_end(self, epoch, logs=None):\n",
    "        clear_output(wait=True)\n",
    "        \n",
    "        for images, masks in train_batches.take(1):\n",
    "            pred_mask = model.predict(images)\n",
    "            print(\"Shape of Predicted Mask:\", pred_mask.shape)\n",
    "            print(\"Shape of True Mask:\", masks.shape)\n",
    "            \n",
    "            if len(images) > 0:\n",
    "                sample_image, sample_mask = images[0], masks[0]\n",
    "                pred_mask_img = create_mask(pred_mask[0:1])  \n",
    "                display([sample_image, sample_mask, pred_mask_img], ['Input Image', 'True Mask', 'Predicted Mask'])\n",
    "            \n",
    "            augmented_image, augmented_mask = augment(images[0], masks[0])\n",
    "            display([images[0], augmented_image, augmented_mask], ['Original Image', 'Augmented Image', 'Augmented Mask'])\n",
    "        \n",
    "        print('\\nSample Prediction after epoch {}\\n'.format(epoch + 1))"
   ]
  },
  {
   "cell_type": "code",
   "execution_count": null,
   "id": "ef82cd8b-48a5-4755-836e-7b121b2806a2",
   "metadata": {},
   "outputs": [],
   "source": [
    "## Výpis informácii o modeli ##\n",
    "\n",
    "model.summary()"
   ]
  },
  {
   "cell_type": "code",
   "execution_count": null,
   "id": "5621dae8-41f7-4b4d-a00f-0a05254474c9",
   "metadata": {},
   "outputs": [],
   "source": [
    "## Trénovanie modelu ##\n",
    "\n",
    "EPOCHS = 80\n",
    "\n",
    "model_history = model.fit(\n",
    "    train_batches, \n",
    "    epochs=EPOCHS,\n",
    "    steps_per_epoch=STEPS_PER_EPOCH,\n",
    "    validation_data=val_batches,\n",
    "    validation_steps=VALIDATION_STEPS,\n",
    "    callbacks=[DisplayCallback()]  \n",
    ")"
   ]
  },
  {
   "cell_type": "code",
   "execution_count": 88,
   "id": "3201a421-2fce-44a3-bc4f-b400c4c7e142",
   "metadata": {},
   "outputs": [],
   "source": [
    "## Definovanie logiky namapovania predikovanej masky na pôvodný obrázok ##\n",
    "\n",
    "def create_overlay(image, pred_mask, true_mask=None, alpha=0, contour_thickness = 1):\n",
    "    image = np.uint8(image * 255)\n",
    "    \n",
    "    pred_mask = np.squeeze(pred_mask)  \n",
    "    color_mask = np.zeros_like(image, dtype=np.uint8)\n",
    "    \n",
    "    overlay = cv2.addWeighted(image, 1 - alpha, color_mask, alpha, 0)\n",
    "    \n",
    "    if contour_thickness > 0:\n",
    "        contours, _ = cv2.findContours(pred_mask.astype(np.uint8), cv2.RETR_EXTERNAL, cv2.CHAIN_APPROX_SIMPLE)\n",
    "        cv2.drawContours(overlay, contours, -1, (255, 0, 0), contour_thickness)\n",
    "\n",
    "    return overlay"
   ]
  },
  {
   "cell_type": "code",
   "execution_count": 89,
   "id": "f907b6e6-1ad0-4447-b178-b2686d10cf25",
   "metadata": {},
   "outputs": [],
   "source": [
    "## Definovanie IoU a Dice skóre ##\n",
    "\n",
    "def iou_score(true, pred):\n",
    "    pred = tf.math.argmax(pred, axis=-1)\n",
    "    pred = tf.expand_dims(pred, axis=-1)\n",
    "    true = tf.cast(true, tf.bool)\n",
    "    pred = tf.cast(pred, tf.bool)\n",
    "    intersection = tf.logical_and(true, pred)\n",
    "    union = tf.logical_or(true, pred)\n",
    "    intersection = tf.cast(intersection, tf.float32)\n",
    "    union = tf.cast(union, tf.float32)\n",
    "    iou = tf.reduce_sum(intersection) / tf.reduce_sum(union)\n",
    "    return iou.numpy()\n",
    "\n",
    "def dice_score(true, pred):\n",
    "    pred = tf.math.argmax(pred, axis=-1)\n",
    "    pred = tf.expand_dims(pred, axis=-1)\n",
    "    true = tf.cast(true, tf.bool)\n",
    "    pred = tf.cast(pred, tf.bool)\n",
    "    intersection = tf.logical_and(true, pred)\n",
    "    intersection = tf.cast(intersection, tf.float32)\n",
    "    dice = (2 * tf.reduce_sum(intersection)) / (tf.reduce_sum(tf.cast(true, tf.float32)) + tf.reduce_sum(tf.cast(pred, tf.float32)))\n",
    "    return dice.numpy()"
   ]
  },
  {
   "cell_type": "code",
   "execution_count": null,
   "id": "a556b6aa-a2e1-46da-bee9-56c0ee003626",
   "metadata": {
    "tags": []
   },
   "outputs": [],
   "source": [
    "## Zobrazenie num=x  počtu predikcií z testovacej množiny ##\n",
    "\n",
    "def show_predictions(dataset, num=360):\n",
    "    displayed = 0\n",
    "    total_iou = 0\n",
    "    total_dice = 0\n",
    "    \n",
    "    for images, masks in dataset:\n",
    "        if displayed >= num:\n",
    "            break\n",
    "        \n",
    "        pred_masks = model.predict(images)\n",
    "        for i in range(len(images)):\n",
    "            if displayed >= num:\n",
    "                break\n",
    "            \n",
    "            pred_mask = create_mask(pred_masks[i:i+1])\n",
    "            overlay = create_overlay(images[i].numpy(), pred_mask.numpy(), masks[i].numpy())\n",
    "            \n",
    "            iou = iou_score(masks[i:i+1], pred_masks[i:i+1])\n",
    "            dice = dice_score(masks[i:i+1], pred_masks[i:i+1])\n",
    "            \n",
    "            total_iou += iou\n",
    "            total_dice += dice\n",
    "            \n",
    "            display_list = [images[i], masks[i], pred_mask, overlay]\n",
    "            titles = ['Input Image', 'True Mask', 'Predicted Mask', 'Overlay Image']\n",
    "            metrics_text = f'IoU: {iou:.4f}, Dice: {dice:.4f}'\n",
    "            \n",
    "            plt.figure(figsize=(15, 5))\n",
    "            for j in range(len(display_list)):\n",
    "                plt.subplot(1, len(display_list) + 1, j+1)\n",
    "                plt.title(titles[j])\n",
    "                plt.imshow(tf.keras.preprocessing.image.array_to_img(display_list[j]))\n",
    "                plt.axis('off')\n",
    "            \n",
    "            plt.subplot(1, len(display_list) + 1, len(display_list) + 1).axis('off')\n",
    "            plt.text(0.5, 0.5, metrics_text, ha='center', va='center', fontsize=12, transform=plt.gca().transAxes)\n",
    "            \n",
    "            plt.show()\n",
    "            \n",
    "            displayed += 1\n",
    "\n",
    "    if displayed > 0:\n",
    "        avg_iou = total_iou / displayed\n",
    "        avg_dice = total_dice / displayed\n",
    "        print(f'Average IoU over {displayed} predictions: {avg_iou:.4f}')\n",
    "        print(f'Average Dice over {displayed} predictions: {avg_dice:.4f}')\n",
    "    else:\n",
    "        print(\"No predictions were made.\")\n",
    "\n",
    "show_predictions(test_batches)"
   ]
  },
  {
   "cell_type": "code",
   "execution_count": null,
   "id": "67d42082-63ef-4314-9a7d-f3e27363b27c",
   "metadata": {},
   "outputs": [],
   "source": []
  },
  {
   "cell_type": "code",
   "execution_count": null,
   "id": "a47a735e-d4cf-4c37-9fab-38a6cf205c04",
   "metadata": {
    "tags": []
   },
   "outputs": [],
   "source": [
    "## Uloženie natrénovaného modelu ##\n",
    "\n",
    "model.save('/home/jovyan/work/bakalar_praca/scss-net/data1/model_saved_')"
   ]
  },
  {
   "cell_type": "code",
   "execution_count": null,
   "id": "95228678-8bd7-44dd-8c8c-57f50e838c92",
   "metadata": {
    "tags": []
   },
   "outputs": [],
   "source": []
  },
  {
   "cell_type": "code",
   "execution_count": 87,
   "id": "06ad5a33-9797-4c86-9b20-a07be894a95f",
   "metadata": {},
   "outputs": [],
   "source": [
    "## Načítanie natrénovaného modelu ##\n",
    "model = tf.keras.models.load_model('/home/jovyan/work/bakalar_praca/scss-net/data1/model_saved_')"
   ]
  }
 ],
 "metadata": {
  "kernelspec": {
   "display_name": "Python 3 (ipykernel)",
   "language": "python",
   "name": "python3"
  },
  "language_info": {
   "codemirror_mode": {
    "name": "ipython",
    "version": 3
   },
   "file_extension": ".py",
   "mimetype": "text/x-python",
   "name": "python",
   "nbconvert_exporter": "python",
   "pygments_lexer": "ipython3",
   "version": "3.10.6"
  }
 },
 "nbformat": 4,
 "nbformat_minor": 5
}
